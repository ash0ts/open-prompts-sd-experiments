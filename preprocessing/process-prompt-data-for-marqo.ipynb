{
 "cells": [
  {
   "cell_type": "code",
   "execution_count": 1,
   "id": "4af5b841-33d3-48a1-b6a3-1b492d35fd55",
   "metadata": {},
   "outputs": [],
   "source": [
    "%%capture\n",
    "!pip install wandb\n",
    "!pip install modin[all]\n",
    "!pip install ray --upgrade\n",
    "# !pip install wrapt_timeout_decorator"
   ]
  },
  {
   "cell_type": "code",
   "execution_count": 2,
   "id": "a0d28ef0-73d5-47e7-b634-843b6357408f",
   "metadata": {},
   "outputs": [
    {
     "name": "stderr",
     "output_type": "stream",
     "text": [
      "\u001b[34m\u001b[1mwandb\u001b[0m: Currently logged in as: \u001b[33ma-sh0ts\u001b[0m. Use \u001b[1m`wandb login --relogin`\u001b[0m to force relogin\n"
     ]
    },
    {
     "data": {
      "text/plain": [
       "True"
      ]
     },
     "execution_count": 2,
     "metadata": {},
     "output_type": "execute_result"
    }
   ],
   "source": [
    "import wandb\n",
    "wandb.login()"
   ]
  },
  {
   "cell_type": "code",
   "execution_count": 3,
   "id": "ab0da344-cbd9-4cd0-9b50-342891e28f8f",
   "metadata": {},
   "outputs": [],
   "source": [
    "project_name = \"krea-open-prompts\"\n",
    "run_name = \"process-open-prompts-sd\"\n",
    "tags = [\"download\", \"stable_diffusion\", \"process\"]\n",
    "_config = {\n",
    "    # option of \"prompts\" or \"sample_prompts\"\n",
    "    \"dataset\": \"sample_prompts\"\n",
    "}"
   ]
  },
  {
   "cell_type": "code",
   "execution_count": 4,
   "id": "fefa9e30-bb60-4eed-9707-7bac2f9b5e61",
   "metadata": {},
   "outputs": [
    {
     "data": {
      "text/html": [
       "Tracking run with wandb version 0.13.3"
      ],
      "text/plain": [
       "<IPython.core.display.HTML object>"
      ]
     },
     "metadata": {},
     "output_type": "display_data"
    },
    {
     "data": {
      "text/html": [
       "Run data is saved locally in <code>/home/jupyter/krea-marqo/wandb/run-20220927_135700-1wexo7kg</code>"
      ],
      "text/plain": [
       "<IPython.core.display.HTML object>"
      ]
     },
     "metadata": {},
     "output_type": "display_data"
    },
    {
     "data": {
      "text/html": [
       "Syncing run <strong><a href=\"https://wandb.ai/a-sh0ts/krea-open-prompts/runs/1wexo7kg\" target=\"_blank\">process-open-prompts-sd</a></strong> to <a href=\"https://wandb.ai/a-sh0ts/krea-open-prompts\" target=\"_blank\">Weights & Biases</a> (<a href=\"https://wandb.me/run\" target=\"_blank\">docs</a>)<br/>"
      ],
      "text/plain": [
       "<IPython.core.display.HTML object>"
      ]
     },
     "metadata": {},
     "output_type": "display_data"
    }
   ],
   "source": [
    "run = wandb.init(project=project_name, name=run_name, tags=tags, config=_config)"
   ]
  },
  {
   "cell_type": "code",
   "execution_count": 5,
   "id": "fa578f0d-4efe-4142-be52-fb87094066a4",
   "metadata": {},
   "outputs": [],
   "source": [
    "config = run.config\n",
    "dataset_name = config['dataset']"
   ]
  },
  {
   "cell_type": "code",
   "execution_count": 6,
   "id": "4bf5063d-4386-47cc-8a26-822c53100722",
   "metadata": {},
   "outputs": [],
   "source": [
    "art = run.use_artifact('open-prompts-sd:latest', type='raw_data')\n",
    "dataset_path = art.get_path(f\"{dataset_name}.csv\").download()"
   ]
  },
  {
   "cell_type": "code",
   "execution_count": 7,
   "id": "097c2cdf-71cb-4e8c-854c-bbab51ff98a0",
   "metadata": {},
   "outputs": [
    {
     "name": "stderr",
     "output_type": "stream",
     "text": [
      "2022-09-27 13:57:09,944\tINFO worker.py:1515 -- Started a local Ray instance. View the dashboard at \u001b[1m\u001b[32mhttp://10.138.0.33:8265 \u001b[39m\u001b[22m\n"
     ]
    },
    {
     "data": {
      "text/html": [
       "<div>\n",
       "    <div style=\"margin-left: 50px;display: flex;flex-direction: row;align-items: center\">\n",
       "        <h3 style=\"color: var(--jp-ui-font-color0)\">Ray</h3>\n",
       "        <svg version=\"1.1\" id=\"ray\" width=\"3em\" viewBox=\"0 0 144.5 144.6\" style=\"margin-left: 3em;margin-right: 3em\">\n",
       "            <g id=\"layer-1\">\n",
       "                <path fill=\"#00a2e9\" class=\"st0\" d=\"M97.3,77.2c-3.8-1.1-6.2,0.9-8.3,5.1c-3.5,6.8-9.9,9.9-17.4,9.6S58,88.1,54.8,81.2c-1.4-3-3-4-6.3-4.1\n",
       "                    c-5.6-0.1-9.9,0.1-13.1,6.4c-3.8,7.6-13.6,10.2-21.8,7.6C5.2,88.4-0.4,80.5,0,71.7c0.1-8.4,5.7-15.8,13.8-18.2\n",
       "                    c8.4-2.6,17.5,0.7,22.3,8c1.3,1.9,1.3,5.2,3.6,5.6c3.9,0.6,8,0.2,12,0.2c1.8,0,1.9-1.6,2.4-2.8c3.5-7.8,9.7-11.8,18-11.9\n",
       "                    c8.2-0.1,14.4,3.9,17.8,11.4c1.3,2.8,2.9,3.6,5.7,3.3c1-0.1,2,0.1,3,0c2.8-0.5,6.4,1.7,8.1-2.7s-2.3-5.5-4.1-7.5\n",
       "                    c-5.1-5.7-10.9-10.8-16.1-16.3C84,38,81.9,37.1,78,38.3C66.7,42,56.2,35.7,53,24.1C50.3,14,57.3,2.8,67.7,0.5\n",
       "                    C78.4-2,89,4.7,91.5,15.3c0.1,0.3,0.1,0.5,0.2,0.8c0.7,3.4,0.7,6.9-0.8,9.8c-1.7,3.2-0.8,5,1.5,7.2c6.7,6.5,13.3,13,19.8,19.7\n",
       "                    c1.8,1.8,3,2.1,5.5,1.2c9.1-3.4,17.9-0.6,23.4,7c4.8,6.9,4.6,16.1-0.4,22.9c-5.4,7.2-14.2,9.9-23.1,6.5c-2.3-0.9-3.5-0.6-5.1,1.1\n",
       "                    c-6.7,6.9-13.6,13.7-20.5,20.4c-1.8,1.8-2.5,3.2-1.4,5.9c3.5,8.7,0.3,18.6-7.7,23.6c-7.9,5-18.2,3.8-24.8-2.9\n",
       "                    c-6.4-6.4-7.4-16.2-2.5-24.3c4.9-7.8,14.5-11,23.1-7.8c3,1.1,4.7,0.5,6.9-1.7C91.7,98.4,98,92.3,104.2,86c1.6-1.6,4.1-2.7,2.6-6.2\n",
       "                    c-1.4-3.3-3.8-2.5-6.2-2.6C99.8,77.2,98.9,77.2,97.3,77.2z M72.1,29.7c5.5,0.1,9.9-4.3,10-9.8c0-0.1,0-0.2,0-0.3\n",
       "                    C81.8,14,77,9.8,71.5,10.2c-5,0.3-9,4.2-9.3,9.2c-0.2,5.5,4,10.1,9.5,10.3C71.8,29.7,72,29.7,72.1,29.7z M72.3,62.3\n",
       "                    c-5.4-0.1-9.9,4.2-10.1,9.7c0,0.2,0,0.3,0,0.5c0.2,5.4,4.5,9.7,9.9,10c5.1,0.1,9.9-4.7,10.1-9.8c0.2-5.5-4-10-9.5-10.3\n",
       "                    C72.6,62.3,72.4,62.3,72.3,62.3z M115,72.5c0.1,5.4,4.5,9.7,9.8,9.9c5.6-0.2,10-4.8,10-10.4c-0.2-5.4-4.6-9.7-10-9.7\n",
       "                    c-5.3-0.1-9.8,4.2-9.9,9.5C115,72.1,115,72.3,115,72.5z M19.5,62.3c-5.4,0.1-9.8,4.4-10,9.8c-0.1,5.1,5.2,10.4,10.2,10.3\n",
       "                    c5.6-0.2,10-4.9,9.8-10.5c-0.1-5.4-4.5-9.7-9.9-9.6C19.6,62.3,19.5,62.3,19.5,62.3z M71.8,134.6c5.9,0.2,10.3-3.9,10.4-9.6\n",
       "                    c0.5-5.5-3.6-10.4-9.1-10.8c-5.5-0.5-10.4,3.6-10.8,9.1c0,0.5,0,0.9,0,1.4c-0.2,5.3,4,9.8,9.3,10\n",
       "                    C71.6,134.6,71.7,134.6,71.8,134.6z\"/>\n",
       "            </g>\n",
       "        </svg>\n",
       "        <table>\n",
       "            <tr>\n",
       "                <td style=\"text-align: left\"><b>Python version:</b></td>\n",
       "                <td style=\"text-align: left\"><b>3.7.12</b></td>\n",
       "            </tr>\n",
       "            <tr>\n",
       "                <td style=\"text-align: left\"><b>Ray version:</b></td>\n",
       "                <td style=\"text-align: left\"><b> 2.0.0</b></td>\n",
       "            </tr>\n",
       "            <tr>\n",
       "    <td style=\"text-align: left\"><b>Dashboard:</b></td>\n",
       "    <td style=\"text-align: left\"><b><a href=\"http://10.138.0.33:8265\" target=\"_blank\">http://10.138.0.33:8265</a></b></td>\n",
       "</tr>\n",
       "\n",
       "        </table>\n",
       "    </div>\n",
       "</div>\n"
      ],
      "text/plain": [
       "RayContext(dashboard_url='10.138.0.33:8265', python_version='3.7.12', ray_version='2.0.0', ray_commit='cba26cc83f6b5b8a2ff166594a65cb74c0ec8740', address_info={'node_ip_address': '10.138.0.33', 'raylet_ip_address': '10.138.0.33', 'redis_address': None, 'object_store_address': '/tmp/ray/session_2022-09-27_13-57-06_853372_1221/sockets/plasma_store', 'raylet_socket_name': '/tmp/ray/session_2022-09-27_13-57-06_853372_1221/sockets/raylet', 'webui_url': '10.138.0.33:8265', 'session_dir': '/tmp/ray/session_2022-09-27_13-57-06_853372_1221', 'metrics_export_port': 63271, 'gcs_address': '10.138.0.33:62467', 'address': '10.138.0.33:62467', 'dashboard_agent_listen_port': 52365, 'node_id': 'b6f80bc7ad1d95df5853802b61d80b755ab73dbd9ec380ad929fcbd6'})"
      ]
     },
     "execution_count": 7,
     "metadata": {},
     "output_type": "execute_result"
    }
   ],
   "source": [
    "import ray\n",
    "ray.init(ignore_reinit_error=True, dashboard_host=\"0.0.0.0\", include_dashboard=True)"
   ]
  },
  {
   "cell_type": "code",
   "execution_count": 8,
   "id": "c3d2f5ba-ea67-45b0-937c-722d213a61f1",
   "metadata": {},
   "outputs": [],
   "source": [
    "import pandas as pd\n",
    "import modin.pandas as mpd\n",
    "# from modin.config import ProgressBar\n",
    "# ProgressBar.enable()"
   ]
  },
  {
   "cell_type": "code",
   "execution_count": 9,
   "id": "96afc1ae-b3c8-4639-b0ae-47c6bbb3fced",
   "metadata": {},
   "outputs": [],
   "source": [
    "raw_df = pd.read_csv(dataset_path)"
   ]
  },
  {
   "cell_type": "code",
   "execution_count": 10,
   "id": "f3bced7c-1035-4598-bf18-97866e2e89b1",
   "metadata": {},
   "outputs": [],
   "source": [
    "import json"
   ]
  },
  {
   "cell_type": "code",
   "execution_count": 11,
   "id": "12ffd2ad-b06e-41a8-855a-0f7fead087d9",
   "metadata": {},
   "outputs": [],
   "source": [
    "from pandas import json_normalize"
   ]
  },
  {
   "cell_type": "code",
   "execution_count": 12,
   "id": "d048a78e-7265-46c2-a473-971b1b4b25fe",
   "metadata": {},
   "outputs": [],
   "source": [
    "raw_data = json_normalize(raw_df[\"raw_data\"].apply(json.loads).tolist(), sep=\"_\")"
   ]
  },
  {
   "cell_type": "code",
   "execution_count": 13,
   "id": "3bed177b-6ab6-43af-bf6b-8cd4465bd0b0",
   "metadata": {},
   "outputs": [],
   "source": [
    "df = raw_df[[\"prompt\"]].join([raw_data])"
   ]
  },
  {
   "cell_type": "code",
   "execution_count": 14,
   "id": "4fc8b100-76f8-42f1-b7c7-0dd432290d3d",
   "metadata": {},
   "outputs": [],
   "source": [
    "#BUG: check if modin actually helps here\n",
    "# df = mpd.DataFrame(df)"
   ]
  },
  {
   "cell_type": "code",
   "execution_count": 15,
   "id": "13a6e015-ddda-4f96-a9fa-9a12d2cc5052",
   "metadata": {},
   "outputs": [],
   "source": [
    "df = df.drop([\"modifiers\"], axis=1)"
   ]
  },
  {
   "cell_type": "code",
   "execution_count": 16,
   "id": "a6053976-b460-4b0d-9cc6-3954b427c56e",
   "metadata": {},
   "outputs": [],
   "source": [
    "from PIL import Image\n",
    "import requests"
   ]
  },
  {
   "cell_type": "code",
   "execution_count": 17,
   "id": "bb295cf3-bc79-4d16-8e4b-e6f58ee92a22",
   "metadata": {},
   "outputs": [],
   "source": [
    "from pathlib import Path\n",
    "import os"
   ]
  },
  {
   "cell_type": "code",
   "execution_count": 18,
   "id": "5db7b082-d5c7-4a4f-a7bb-235b080b42a9",
   "metadata": {},
   "outputs": [],
   "source": [
    "# dataset_name = \"test_modin\""
   ]
  },
  {
   "cell_type": "code",
   "execution_count": 19,
   "id": "6e82cdf8-488b-4574-b997-a634cf10b2fc",
   "metadata": {},
   "outputs": [],
   "source": [
    "image_folder = Path(\".\", dataset_name)\n",
    "image_folder.mkdir(parents=True, exist_ok=True)"
   ]
  },
  {
   "cell_type": "code",
   "execution_count": 20,
   "id": "0184c71c-966f-4628-ba81-e84e7af88d62",
   "metadata": {},
   "outputs": [],
   "source": [
    "default_timeout = 5"
   ]
  },
  {
   "cell_type": "code",
   "execution_count": 21,
   "id": "038a512e-6005-45ae-9902-e3e0fff1f2d1",
   "metadata": {},
   "outputs": [],
   "source": [
    "def download_image_files(image_url):\n",
    "    file_name = image_url.rsplit('/', 1)[-1]\n",
    "    file_path = Path(image_folder, file_name)\n",
    "    try:\n",
    "        #Allows for retries without redownloads\n",
    "        if file_path.exists():\n",
    "            #Test the image actually opens and then close it\n",
    "            img = Image.open(file_path)\n",
    "            img.close()\n",
    "            return (str(file_path), True)\n",
    "        #Downloads image and writes it to file\n",
    "        img_data = requests.get(image_url, timeout=default_timeout).content\n",
    "        with open(file_path, 'wb') as handler:\n",
    "            handler.write(img_data)\n",
    "        #Test the image actually opens and then close it\n",
    "        img = Image.open(file_path)\n",
    "        img.close()\n",
    "        return (str(file_path), True)\n",
    "    except Exception as e:\n",
    "        print(e)\n",
    "        #Remove traces of erred files to prevent broken files from still existing\n",
    "        if file_path.exists():\n",
    "            os.remove(file_path)\n",
    "        return (None, False)"
   ]
  },
  {
   "cell_type": "code",
   "execution_count": 22,
   "id": "8bd13cf4-047c-4225-8661-4b2c82b6fdc7",
   "metadata": {},
   "outputs": [],
   "source": [
    "from tqdm import tqdm\n",
    "tqdm.pandas()"
   ]
  },
  {
   "cell_type": "code",
   "execution_count": 23,
   "id": "6afd4592-74b9-4294-839f-87bb1d874467",
   "metadata": {},
   "outputs": [
    {
     "name": "stderr",
     "output_type": "stream",
     "text": [
      "100%|██████████| 998/998 [00:00<00:00, 2871.06it/s]"
     ]
    },
    {
     "name": "stdout",
     "output_type": "stream",
     "text": [
      "cannot identify image file '/home/jupyter/krea-marqo/sample_prompts/beautiful_coy_natural_redhead_cottagecore_peasant_maiden_intricate_elegant_highly_detailed_digital_painting_artstation_concept_art_smooth_sh_-H_768_-n_9_-i_-S_216508618_ts-1659853734_idx-6.png'\n"
     ]
    },
    {
     "name": "stderr",
     "output_type": "stream",
     "text": [
      "\n"
     ]
    }
   ],
   "source": [
    "responses = df[\"raw_discord_data_image_uri\"].progress_apply(download_image_files)"
   ]
  },
  {
   "cell_type": "code",
   "execution_count": 24,
   "id": "d2b39d41-8704-4561-8317-b5b3b813c222",
   "metadata": {},
   "outputs": [],
   "source": [
    "df[\"local_image_location\"] = [response[0] for response in responses]\n",
    "df[\"image_download_success\"] = [response[1] for response in responses]"
   ]
  },
  {
   "cell_type": "code",
   "execution_count": 25,
   "id": "8d0e7ebf-f9c3-4111-88f5-39e48f89a1be",
   "metadata": {},
   "outputs": [
    {
     "data": {
      "text/plain": [
       "(998, 17)"
      ]
     },
     "execution_count": 25,
     "metadata": {},
     "output_type": "execute_result"
    }
   ],
   "source": [
    "df.shape"
   ]
  },
  {
   "cell_type": "code",
   "execution_count": 26,
   "id": "9b164b94-f186-4134-91b9-cdaa40b7f866",
   "metadata": {},
   "outputs": [],
   "source": [
    "processed_df = df[df[\"image_download_success\"]]"
   ]
  },
  {
   "cell_type": "code",
   "execution_count": 27,
   "id": "61d13fe1-31b0-48d5-acf6-0026dad7c65b",
   "metadata": {},
   "outputs": [
    {
     "data": {
      "text/plain": [
       "(997, 17)"
      ]
     },
     "execution_count": 27,
     "metadata": {},
     "output_type": "execute_result"
    }
   ],
   "source": [
    "processed_df.shape"
   ]
  },
  {
   "cell_type": "code",
   "execution_count": 28,
   "id": "8f64727e-6e79-4048-bd2f-569b2f26584c",
   "metadata": {},
   "outputs": [
    {
     "data": {
      "text/plain": [
       "Index(['prompt', 'image_uri', 'thumbnail_uri', 'raw_discord_data_seed',\n",
       "       'raw_discord_data_width', 'raw_discord_data_height',\n",
       "       'raw_discord_data_content', 'raw_discord_data_is_grid',\n",
       "       'raw_discord_data_num_step', 'raw_discord_data_cfg_scale',\n",
       "       'raw_discord_data_image_uri', 'raw_discord_data_timestamp',\n",
       "       'raw_discord_data_content_type', 'raw_discord_data_image_proxy_uri',\n",
       "       'raw_discord_data_num_generations', 'local_image_location',\n",
       "       'image_download_success'],\n",
       "      dtype='object')"
      ]
     },
     "execution_count": 28,
     "metadata": {},
     "output_type": "execute_result"
    }
   ],
   "source": [
    "processed_df.columns"
   ]
  },
  {
   "cell_type": "code",
   "execution_count": 29,
   "id": "a2d0fa26-1ea2-4460-befb-1a1b3093aac0",
   "metadata": {},
   "outputs": [
    {
     "data": {
      "text/plain": [
       "prompt                              A portrait photo of a kangaroo wearing an oran...\n",
       "image_uri                                                                     PENDING\n",
       "thumbnail_uri                                                                 PENDING\n",
       "raw_discord_data_seed                                                     556046175.0\n",
       "raw_discord_data_width                                                            512\n",
       "raw_discord_data_height                                                           512\n",
       "raw_discord_data_content                                                             \n",
       "raw_discord_data_is_grid                                                          0.0\n",
       "raw_discord_data_num_step                                                        50.0\n",
       "raw_discord_data_cfg_scale                                                       15.0\n",
       "raw_discord_data_image_uri          https://cdn.discordapp.com/attachments/1005543...\n",
       "raw_discord_data_timestamp                                               1660001285.0\n",
       "raw_discord_data_content_type                                               image/png\n",
       "raw_discord_data_image_proxy_uri                                                     \n",
       "raw_discord_data_num_generations                                                  9.0\n",
       "local_image_location                sample_prompts/A_portrait_photo_of_a_kangaroo_...\n",
       "image_download_success                                                           True\n",
       "Name: 0, dtype: object"
      ]
     },
     "execution_count": 29,
     "metadata": {},
     "output_type": "execute_result"
    }
   ],
   "source": [
    "processed_df.iloc[0]"
   ]
  },
  {
   "cell_type": "code",
   "execution_count": 30,
   "id": "6f00a139-9938-4710-b7e2-04838af5a9ef",
   "metadata": {},
   "outputs": [
    {
     "data": {
      "text/plain": [
       "'sample_prompts/A_portrait_photo_of_a_kangaroo_wearing_an_orange_hoodie_and_blue_sunglasses_standing_on_the_grass_in_front_of_the_Sydney_Opera_House_holding_a_sign_-C_15.0_-n_9_-i_-S_556046175_ts-1660001285_idx-4.png'"
      ]
     },
     "execution_count": 30,
     "metadata": {},
     "output_type": "execute_result"
    }
   ],
   "source": [
    "processed_df[\"local_image_location\"].iloc[0]"
   ]
  },
  {
   "cell_type": "code",
   "execution_count": 31,
   "id": "f715af7a-51ff-4d44-9b6c-f3df03dda389",
   "metadata": {},
   "outputs": [],
   "source": [
    "selected_columns = [\n",
    "    \"prompt\",\n",
    "    \"local_image_location\",\n",
    "    \"raw_discord_data_seed\",\n",
    "    \"raw_discord_data_width\",\n",
    "    \"raw_discord_data_height\",\n",
    "    \"raw_discord_data_is_grid\",\n",
    "    \"raw_discord_data_num_step\",\n",
    "    \"raw_discord_data_cfg_scale\",\n",
    "    \"raw_discord_data_timestamp\",\n",
    "    \"raw_discord_data_num_generations\"\n",
    "    \n",
    "]"
   ]
  },
  {
   "cell_type": "code",
   "execution_count": 32,
   "id": "ffe4b7b5-be4b-4261-b38a-a806ca206dbf",
   "metadata": {},
   "outputs": [],
   "source": [
    "processed_df = processed_df[selected_columns]"
   ]
  },
  {
   "cell_type": "code",
   "execution_count": 33,
   "id": "786ff466-dec9-4f0e-909c-a3fc28051157",
   "metadata": {},
   "outputs": [
    {
     "data": {
      "text/plain": [
       "prompt                              A portrait photo of a kangaroo wearing an oran...\n",
       "local_image_location                sample_prompts/A_portrait_photo_of_a_kangaroo_...\n",
       "raw_discord_data_seed                                                     556046175.0\n",
       "raw_discord_data_width                                                            512\n",
       "raw_discord_data_height                                                           512\n",
       "raw_discord_data_is_grid                                                          0.0\n",
       "raw_discord_data_num_step                                                        50.0\n",
       "raw_discord_data_cfg_scale                                                       15.0\n",
       "raw_discord_data_timestamp                                               1660001285.0\n",
       "raw_discord_data_num_generations                                                  9.0\n",
       "Name: 0, dtype: object"
      ]
     },
     "execution_count": 33,
     "metadata": {},
     "output_type": "execute_result"
    }
   ],
   "source": [
    "processed_df.iloc[0]"
   ]
  },
  {
   "cell_type": "code",
   "execution_count": 34,
   "id": "ca72d572-9e38-4217-b49c-d0a22e399767",
   "metadata": {},
   "outputs": [],
   "source": [
    "processed_df_path = f\"{dataset_name}.csv\"\n",
    "processed_df.to_csv(processed_df_path, index=False)"
   ]
  },
  {
   "cell_type": "code",
   "execution_count": 35,
   "id": "faef84d8-95a7-4271-9189-6f20cf1d8b9d",
   "metadata": {},
   "outputs": [],
   "source": [
    "processed_data_art = wandb.Artifact(name=dataset_name, type=\"processed_data\")"
   ]
  },
  {
   "cell_type": "code",
   "execution_count": 36,
   "id": "7f1903d8-083d-4778-92c1-15c7dd2a3083",
   "metadata": {},
   "outputs": [
    {
     "name": "stderr",
     "output_type": "stream",
     "text": [
      "\u001b[34m\u001b[1mwandb\u001b[0m: Adding directory to artifact (./sample_prompts)... Done. 0.9s\n"
     ]
    }
   ],
   "source": [
    "processed_data_art.add_file(processed_df_path)\n",
    "processed_data_art.add_dir(image_folder, name=dataset_name)"
   ]
  },
  {
   "cell_type": "code",
   "execution_count": 37,
   "id": "5d3f6ad4-92fe-4f22-9f86-779f935bb1fc",
   "metadata": {},
   "outputs": [
    {
     "data": {
      "text/plain": [
       "<wandb.sdk.wandb_artifacts.Artifact at 0x7f3cf1256bd0>"
      ]
     },
     "execution_count": 37,
     "metadata": {},
     "output_type": "execute_result"
    }
   ],
   "source": [
    "run.log_artifact(processed_data_art)"
   ]
  },
  {
   "cell_type": "code",
   "execution_count": 38,
   "id": "2bd0ae1a-26f6-41b9-a200-53eba63f4884",
   "metadata": {},
   "outputs": [
    {
     "data": {
      "text/html": [
       "Waiting for W&B process to finish... <strong style=\"color:green\">(success).</strong>"
      ],
      "text/plain": [
       "<IPython.core.display.HTML object>"
      ]
     },
     "metadata": {},
     "output_type": "display_data"
    },
    {
     "data": {
      "application/vnd.jupyter.widget-view+json": {
       "model_id": "",
       "version_major": 2,
       "version_minor": 0
      },
      "text/plain": [
       "VBox(children=(Label(value='618.734 MB of 618.734 MB uploaded (618.362 MB deduped)\\r'), FloatProgress(value=1.…"
      ]
     },
     "metadata": {},
     "output_type": "display_data"
    },
    {
     "data": {
      "text/html": [
       "W&B sync reduced upload amount by 99.9%             "
      ],
      "text/plain": [
       "<IPython.core.display.HTML object>"
      ]
     },
     "metadata": {},
     "output_type": "display_data"
    },
    {
     "data": {
      "text/html": [
       "Synced <strong style=\"color:#cdcd00\">process-open-prompts-sd</strong>: <a href=\"https://wandb.ai/a-sh0ts/krea-open-prompts/runs/1wexo7kg\" target=\"_blank\">https://wandb.ai/a-sh0ts/krea-open-prompts/runs/1wexo7kg</a><br/>Synced 6 W&B file(s), 0 media file(s), 997 artifact file(s) and 1 other file(s)"
      ],
      "text/plain": [
       "<IPython.core.display.HTML object>"
      ]
     },
     "metadata": {},
     "output_type": "display_data"
    },
    {
     "data": {
      "text/html": [
       "Find logs at: <code>./wandb/run-20220927_135700-1wexo7kg/logs</code>"
      ],
      "text/plain": [
       "<IPython.core.display.HTML object>"
      ]
     },
     "metadata": {},
     "output_type": "display_data"
    }
   ],
   "source": [
    "run.finish()"
   ]
  }
 ],
 "metadata": {
  "environment": {
   "kernel": "python3",
   "name": "common-cu110.m96",
   "type": "gcloud",
   "uri": "gcr.io/deeplearning-platform-release/base-cu110:m96"
  },
  "kernelspec": {
   "display_name": "Python 3",
   "language": "python",
   "name": "python3"
  },
  "language_info": {
   "codemirror_mode": {
    "name": "ipython",
    "version": 3
   },
   "file_extension": ".py",
   "mimetype": "text/x-python",
   "name": "python",
   "nbconvert_exporter": "python",
   "pygments_lexer": "ipython3",
   "version": "3.7.12"
  }
 },
 "nbformat": 4,
 "nbformat_minor": 5
}
