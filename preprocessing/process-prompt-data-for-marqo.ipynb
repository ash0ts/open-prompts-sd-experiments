{
 "cells": [
  {
   "cell_type": "code",
   "execution_count": null,
   "id": "4af5b841-33d3-48a1-b6a3-1b492d35fd55",
   "metadata": {},
   "outputs": [],
   "source": [
    "%%capture\n",
    "!pip install -U wandb\n",
    "!pip install -U pandas # upgrade pandas\n",
    "# !pip install -U dask[\"complete\"]\n",
    "!pip install swifter # first time installation\n",
    "!pip install swifter[groupby]\n",
    "# !pip install wrapt_timeout_decorator"
   ]
  },
  {
   "cell_type": "code",
   "execution_count": null,
   "id": "a0d28ef0-73d5-47e7-b634-843b6357408f",
   "metadata": {},
   "outputs": [],
   "source": [
    "import wandb\n",
    "wandb.login()"
   ]
  },
  {
   "cell_type": "code",
   "execution_count": null,
   "id": "ab0da344-cbd9-4cd0-9b50-342891e28f8f",
   "metadata": {},
   "outputs": [],
   "source": [
    "project_name = \"krea-open-prompts\"\n",
    "run_name = \"process-open-prompts-sd\"\n",
    "tags = [\"download\", \"stable_diffusion\", \"process\"]\n",
    "_config = {\n",
    "    # option of \"prompts\" or \"sample_prompts\"\n",
    "    \"dataset\": \"sample_prompts\"\n",
    "}"
   ]
  },
  {
   "cell_type": "code",
   "execution_count": null,
   "id": "fefa9e30-bb60-4eed-9707-7bac2f9b5e61",
   "metadata": {},
   "outputs": [],
   "source": [
    "run = wandb.init(project=project_name, name=run_name, tags=tags, config=_config)"
   ]
  },
  {
   "cell_type": "code",
   "execution_count": null,
   "id": "fa578f0d-4efe-4142-be52-fb87094066a4",
   "metadata": {},
   "outputs": [],
   "source": [
    "config = run.config\n",
    "dataset_name = config['dataset']"
   ]
  },
  {
   "cell_type": "code",
   "execution_count": null,
   "id": "4bf5063d-4386-47cc-8a26-822c53100722",
   "metadata": {},
   "outputs": [],
   "source": [
    "art = run.use_artifact('open-prompts-sd:latest', type='raw_data')\n",
    "dataset_path = art.get_path(f\"{dataset_name}.csv\").download()"
   ]
  },
  {
   "cell_type": "code",
   "execution_count": null,
   "id": "097c2cdf-71cb-4e8c-854c-bbab51ff98a0",
   "metadata": {},
   "outputs": [],
   "source": [
    "# import ray\n",
    "# ray.init(ignore_reinit_error=True, dashboard_host=\"0.0.0.0\", include_dashboard=True)"
   ]
  },
  {
   "cell_type": "code",
   "execution_count": null,
   "id": "c3d2f5ba-ea67-45b0-937c-722d213a61f1",
   "metadata": {},
   "outputs": [],
   "source": [
    "import pandas as pd\n",
    "import swifter\n",
    "# import modin.pandas as mpd\n",
    "# from modin.config import ProgressBar\n",
    "# ProgressBar.enable()"
   ]
  },
  {
   "cell_type": "code",
   "execution_count": null,
   "id": "96afc1ae-b3c8-4639-b0ae-47c6bbb3fced",
   "metadata": {},
   "outputs": [],
   "source": [
    "raw_df = pd.read_csv(dataset_path)"
   ]
  },
  {
   "cell_type": "code",
   "execution_count": null,
   "id": "f3bced7c-1035-4598-bf18-97866e2e89b1",
   "metadata": {},
   "outputs": [],
   "source": [
    "import json"
   ]
  },
  {
   "cell_type": "code",
   "execution_count": null,
   "id": "12ffd2ad-b06e-41a8-855a-0f7fead087d9",
   "metadata": {},
   "outputs": [],
   "source": [
    "from pandas import json_normalize"
   ]
  },
  {
   "cell_type": "code",
   "execution_count": null,
   "id": "c4c94a4a-95f7-407b-852e-b8b5b9eef6ce",
   "metadata": {},
   "outputs": [],
   "source": [
    "def load_and_flatten_json(record):\n",
    "    json_record = json.loads(record)\n",
    "    flattened_json_record = json_normalize(json_record, sep=\"_\")\n",
    "    return flattened_json_record.to_dict(orient=\"records\")[0]"
   ]
  },
  {
   "cell_type": "code",
   "execution_count": null,
   "id": "1e0ccc95-2136-48e8-ba39-f3e86b3e247c",
   "metadata": {},
   "outputs": [],
   "source": [
    "df = pd.DataFrame(raw_df[\"raw_data\"].swifter.apply(load_and_flatten_json).to_list())"
   ]
  },
  {
   "cell_type": "code",
   "execution_count": null,
   "id": "3bed177b-6ab6-43af-bf6b-8cd4465bd0b0",
   "metadata": {},
   "outputs": [],
   "source": [
    "df[\"prompt\"] = raw_df[\"prompt\"]"
   ]
  },
  {
   "cell_type": "code",
   "execution_count": null,
   "id": "7fc39018-06e6-4034-a021-9da2d3e3e78f",
   "metadata": {},
   "outputs": [],
   "source": [
    "import gc"
   ]
  },
  {
   "cell_type": "code",
   "execution_count": null,
   "id": "3861a120-69fe-4341-9a09-80e0e23b7fc3",
   "metadata": {},
   "outputs": [],
   "source": [
    "del raw_df\n",
    "gc.collect()"
   ]
  },
  {
   "cell_type": "code",
   "execution_count": null,
   "id": "13a6e015-ddda-4f96-a9fa-9a12d2cc5052",
   "metadata": {},
   "outputs": [],
   "source": [
    "df = df.drop([\"modifiers\"], axis=1)"
   ]
  },
  {
   "cell_type": "code",
   "execution_count": null,
   "id": "a6053976-b460-4b0d-9cc6-3954b427c56e",
   "metadata": {},
   "outputs": [],
   "source": [
    "from PIL import Image\n",
    "import requests"
   ]
  },
  {
   "cell_type": "code",
   "execution_count": null,
   "id": "bb295cf3-bc79-4d16-8e4b-e6f58ee92a22",
   "metadata": {},
   "outputs": [],
   "source": [
    "from pathlib import Path\n",
    "import os"
   ]
  },
  {
   "cell_type": "code",
   "execution_count": null,
   "id": "5db7b082-d5c7-4a4f-a7bb-235b080b42a9",
   "metadata": {},
   "outputs": [],
   "source": [
    "# dataset_name = \"test_modin\""
   ]
  },
  {
   "cell_type": "code",
   "execution_count": null,
   "id": "6e82cdf8-488b-4574-b997-a634cf10b2fc",
   "metadata": {},
   "outputs": [],
   "source": [
    "image_folder = Path(\".\", dataset_name)\n",
    "image_folder.mkdir(parents=True, exist_ok=True)"
   ]
  },
  {
   "cell_type": "code",
   "execution_count": null,
   "id": "0184c71c-966f-4628-ba81-e84e7af88d62",
   "metadata": {},
   "outputs": [],
   "source": [
    "default_timeout = 5"
   ]
  },
  {
   "cell_type": "code",
   "execution_count": null,
   "id": "038a512e-6005-45ae-9902-e3e0fff1f2d1",
   "metadata": {},
   "outputs": [],
   "source": [
    "def download_image_files(image_url):\n",
    "    file_name = image_url.rsplit('/', 1)[-1]\n",
    "    file_path = Path(image_folder, file_name)\n",
    "    try:\n",
    "        #Allows for retries without redownloads\n",
    "        if file_path.exists():\n",
    "            #Test the image actually opens and then close it\n",
    "            img = Image.open(file_path)\n",
    "            img.close()\n",
    "            return (str(file_path), True)\n",
    "        #Downloads image and writes it to file\n",
    "        img_data = requests.get(image_url, timeout=default_timeout).content\n",
    "        with open(file_path, 'wb') as handler:\n",
    "            handler.write(img_data)\n",
    "        #Test the image actually opens and then close it\n",
    "        img = Image.open(file_path)\n",
    "        img.close()\n",
    "        return (str(file_path), True)\n",
    "    except Exception as e:\n",
    "        print(e)\n",
    "        #Remove traces of erred files to prevent broken files from still existing\n",
    "        if file_path.exists():\n",
    "            os.remove(file_path)\n",
    "        return (None, False)"
   ]
  },
  {
   "cell_type": "code",
   "execution_count": null,
   "id": "8bd13cf4-047c-4225-8661-4b2c82b6fdc7",
   "metadata": {},
   "outputs": [],
   "source": [
    "# from tqdm import tqdm\n",
    "# tqdm.pandas()"
   ]
  },
  {
   "cell_type": "code",
   "execution_count": null,
   "id": "4fc8b100-76f8-42f1-b7c7-0dd432290d3d",
   "metadata": {},
   "outputs": [],
   "source": [
    "#BUG: check if modin actually helps here\n",
    "# df = mpd.DataFrame(df)"
   ]
  },
  {
   "cell_type": "code",
   "execution_count": null,
   "id": "102081ca-1b98-4df6-afcd-add917de7d45",
   "metadata": {},
   "outputs": [],
   "source": [
    "from tqdm import tqdm"
   ]
  },
  {
   "cell_type": "code",
   "execution_count": null,
   "id": "570dada5-15aa-4747-aa17-ca433afb10b0",
   "metadata": {},
   "outputs": [],
   "source": [
    "responses = df[\"raw_discord_data_image_uri\"].swifter.apply(download_image_files)"
   ]
  },
  {
   "cell_type": "code",
   "execution_count": null,
   "id": "d2b39d41-8704-4561-8317-b5b3b813c222",
   "metadata": {},
   "outputs": [],
   "source": [
    "df[\"local_image_location\"] = [response[0] for response in responses]\n",
    "df[\"image_download_success\"] = [response[1] for response in responses]"
   ]
  },
  {
   "cell_type": "code",
   "execution_count": null,
   "id": "8d0e7ebf-f9c3-4111-88f5-39e48f89a1be",
   "metadata": {},
   "outputs": [],
   "source": [
    "df.shape"
   ]
  },
  {
   "cell_type": "code",
   "execution_count": null,
   "id": "9b164b94-f186-4134-91b9-cdaa40b7f866",
   "metadata": {},
   "outputs": [],
   "source": [
    "processed_df = df[df[\"image_download_success\"]]"
   ]
  },
  {
   "cell_type": "code",
   "execution_count": null,
   "id": "61d13fe1-31b0-48d5-acf6-0026dad7c65b",
   "metadata": {},
   "outputs": [],
   "source": [
    "processed_df.shape"
   ]
  },
  {
   "cell_type": "code",
   "execution_count": null,
   "id": "8f64727e-6e79-4048-bd2f-569b2f26584c",
   "metadata": {},
   "outputs": [],
   "source": [
    "processed_df.columns"
   ]
  },
  {
   "cell_type": "code",
   "execution_count": null,
   "id": "a2d0fa26-1ea2-4460-befb-1a1b3093aac0",
   "metadata": {},
   "outputs": [],
   "source": [
    "processed_df.iloc[0]"
   ]
  },
  {
   "cell_type": "code",
   "execution_count": null,
   "id": "6f00a139-9938-4710-b7e2-04838af5a9ef",
   "metadata": {},
   "outputs": [],
   "source": [
    "processed_df[\"local_image_location\"].iloc[0]"
   ]
  },
  {
   "cell_type": "code",
   "execution_count": null,
   "id": "f715af7a-51ff-4d44-9b6c-f3df03dda389",
   "metadata": {},
   "outputs": [],
   "source": [
    "selected_columns = [\n",
    "    \"prompt\",\n",
    "    \"local_image_location\",\n",
    "    \"raw_discord_data_seed\",\n",
    "    \"raw_discord_data_width\",\n",
    "    \"raw_discord_data_height\",\n",
    "    \"raw_discord_data_is_grid\",\n",
    "    \"raw_discord_data_num_step\",\n",
    "    \"raw_discord_data_cfg_scale\",\n",
    "    \"raw_discord_data_timestamp\",\n",
    "    \"raw_discord_data_num_generations\"\n",
    "    \n",
    "]"
   ]
  },
  {
   "cell_type": "code",
   "execution_count": null,
   "id": "ffe4b7b5-be4b-4261-b38a-a806ca206dbf",
   "metadata": {},
   "outputs": [],
   "source": [
    "processed_df = processed_df[selected_columns]"
   ]
  },
  {
   "cell_type": "code",
   "execution_count": null,
   "id": "786ff466-dec9-4f0e-909c-a3fc28051157",
   "metadata": {},
   "outputs": [],
   "source": [
    "processed_df.iloc[0]"
   ]
  },
  {
   "cell_type": "code",
   "execution_count": null,
   "id": "ca72d572-9e38-4217-b49c-d0a22e399767",
   "metadata": {},
   "outputs": [],
   "source": [
    "processed_df_path = f\"{dataset_name}.csv\"\n",
    "processed_df.to_csv(processed_df_path, index=False)"
   ]
  },
  {
   "cell_type": "code",
   "execution_count": null,
   "id": "faef84d8-95a7-4271-9189-6f20cf1d8b9d",
   "metadata": {},
   "outputs": [],
   "source": [
    "processed_data_art = wandb.Artifact(name=dataset_name, type=\"processed_data\")"
   ]
  },
  {
   "cell_type": "code",
   "execution_count": null,
   "id": "7f1903d8-083d-4778-92c1-15c7dd2a3083",
   "metadata": {},
   "outputs": [],
   "source": [
    "processed_data_art.add_file(processed_df_path)\n",
    "processed_data_art.add_dir(image_folder, name=dataset_name)"
   ]
  },
  {
   "cell_type": "code",
   "execution_count": null,
   "id": "5d3f6ad4-92fe-4f22-9f86-779f935bb1fc",
   "metadata": {},
   "outputs": [],
   "source": [
    "run.log_artifact(processed_data_art)"
   ]
  },
  {
   "cell_type": "code",
   "execution_count": null,
   "id": "2bd0ae1a-26f6-41b9-a200-53eba63f4884",
   "metadata": {},
   "outputs": [],
   "source": [
    "run.finish()"
   ]
  }
 ],
 "metadata": {
  "environment": {
   "kernel": "python3",
   "name": "common-cu110.m96",
   "type": "gcloud",
   "uri": "gcr.io/deeplearning-platform-release/base-cu110:m96"
  },
  "kernelspec": {
   "display_name": "Python 3",
   "language": "python",
   "name": "python3"
  },
  "language_info": {
   "codemirror_mode": {
    "name": "ipython",
    "version": 3
   },
   "file_extension": ".py",
   "mimetype": "text/x-python",
   "name": "python",
   "nbconvert_exporter": "python",
   "pygments_lexer": "ipython3",
   "version": "3.7.12"
  }
 },
 "nbformat": 4,
 "nbformat_minor": 5
}
