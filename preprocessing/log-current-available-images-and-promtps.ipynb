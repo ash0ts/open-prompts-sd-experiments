{
 "cells": [
  {
   "cell_type": "code",
   "execution_count": null,
   "id": "a8b9951e-8ea0-4948-99fd-8d993c17c914",
   "metadata": {},
   "outputs": [],
   "source": [
    "%%capture\n",
    "!pip install --U wandb\n",
    "!pip install pandarallel"
   ]
  },
  {
   "cell_type": "code",
   "execution_count": null,
   "id": "d55a0e96-b8fd-46b0-8115-bc400b80ecb9",
   "metadata": {},
   "outputs": [],
   "source": [
    "import wandb\n",
    "wandb.login()"
   ]
  },
  {
   "cell_type": "code",
   "execution_count": null,
   "id": "7f12c53c-c38f-4c5d-98e8-85148e0153c0",
   "metadata": {},
   "outputs": [],
   "source": [
    "project_name = \"krea-open-prompts\"\n",
    "run_name = \"process-and-log-available-open-prompts-sd-with-images\"\n",
    "tags = [\"log\", \"stable_diffusion\", \"available\", \"process\"]\n",
    "_config = {\n",
    "    # option of \"prompts\" or \"sample_prompts\"\n",
    "    \"dataset\": \"prompts\"\n",
    "}"
   ]
  },
  {
   "cell_type": "code",
   "execution_count": null,
   "id": "06c72142-f5a1-4aa7-8427-2ea778e07f3e",
   "metadata": {},
   "outputs": [],
   "source": [
    "run = wandb.init(project=project_name, name=run_name, tags=tags, config=_config)"
   ]
  },
  {
   "cell_type": "code",
   "execution_count": null,
   "id": "35ee22fa-ff1b-45ce-9db6-04578bae85eb",
   "metadata": {},
   "outputs": [],
   "source": [
    "config = run.config\n",
    "dataset_name = config['dataset']"
   ]
  },
  {
   "cell_type": "code",
   "execution_count": null,
   "id": "6efce300-3fc6-4c20-bb6d-f22c58ed0914",
   "metadata": {},
   "outputs": [],
   "source": [
    "art = run.use_artifact('open-prompts-sd:latest', type='raw_data')\n",
    "dataset_path = art.get_path(f\"{dataset_name}.csv\").download()"
   ]
  },
  {
   "cell_type": "code",
   "execution_count": null,
   "id": "b86daac3-9344-4643-8533-5dab7921c894",
   "metadata": {},
   "outputs": [],
   "source": [
    "import psutil\n",
    "# By default, Pandarallel use all available CPUs\n",
    "NB_PHYSICAL_CORES = psutil.cpu_count(logical=False)\n",
    "NB_CORES = psutil.cpu_count()"
   ]
  },
  {
   "cell_type": "code",
   "execution_count": null,
   "id": "57fb900a-ad78-4e12-a687-e4bb430c8961",
   "metadata": {},
   "outputs": [],
   "source": [
    "from pandarallel import pandarallel\n",
    "#LEts see if using logical cores too will be good\n",
    "pandarallel.initialize(progress_bar=True, nb_workers=NB_CORES)"
   ]
  },
  {
   "cell_type": "code",
   "execution_count": null,
   "id": "2179d163-f8cd-4043-8073-2abc1161c575",
   "metadata": {},
   "outputs": [],
   "source": [
    "import json\n",
    "from pandas import json_normalize"
   ]
  },
  {
   "cell_type": "code",
   "execution_count": null,
   "id": "6a4edd51-a6b2-4980-b210-e8f9f37f31e6",
   "metadata": {},
   "outputs": [],
   "source": [
    "def load_and_flatten_json(record):\n",
    "    json_record = json.loads(record)\n",
    "    flattened_json_record = json_normalize(json_record, sep=\"_\")\n",
    "    return flattened_json_record.to_dict(orient=\"records\")[0]"
   ]
  },
  {
   "cell_type": "code",
   "execution_count": null,
   "id": "5deb4e1c-2c0e-48c5-8115-c5215bbf76cd",
   "metadata": {},
   "outputs": [],
   "source": [
    "import os\n",
    "#TODO: store images in a bucket and read/write to there and make the artifact reference that. Will allow for multiple pcs and processes to write to it\n",
    "#also not restricted to local filestore\n",
    "downloaded_images = set(os.listdir(image_folder))"
   ]
  },
  {
   "cell_type": "code",
   "execution_count": null,
   "id": "227564c5-0375-4769-b7de-bef1624c7ad3",
   "metadata": {},
   "outputs": [],
   "source": [
    "raw_df = pd.read_csv(dataset_path)\n",
    "df = pd.DataFrame(raw_df[\"raw_data\"].parallel_apply(load_and_flatten_json).to_list())\n",
    "# df = pd.DataFrame(raw_df[\"raw_data\"].swifter.force_parallel().apply(load_and_flatten_json).to_list())\n",
    "\n",
    "df[\"local_image_location\"] = df[\"raw_discord_data_image_uri\"].str.rsplit(\"/\", 1).str[-1]\n",
    "df[\"prompt\"] = raw_df[\"prompt\"]\n",
    "del raw_df\n",
    "df = df[df[\"local_image_location\"].isin(downloaded_images)][[\"raw_discord_data_image_uri\", \"local_image_location\"]]"
   ]
  },
  {
   "cell_type": "code",
   "execution_count": null,
   "id": "3dd55be6-0554-4093-90dd-1fcedb13b52a",
   "metadata": {},
   "outputs": [],
   "source": [
    "selected_columns = [\n",
    "    \"prompt\",\n",
    "    \"local_image_location\",\n",
    "    \"raw_discord_data_seed\",\n",
    "    \"raw_discord_data_width\",\n",
    "    \"raw_discord_data_height\",\n",
    "    \"raw_discord_data_is_grid\",\n",
    "    \"raw_discord_data_num_step\",\n",
    "    \"raw_discord_data_cfg_scale\",\n",
    "    \"raw_discord_data_timestamp\",\n",
    "    \"raw_discord_data_num_generations\"\n",
    "    \n",
    "]"
   ]
  },
  {
   "cell_type": "code",
   "execution_count": null,
   "id": "b7346189-a4cd-4dc7-992c-e0aac26846a7",
   "metadata": {},
   "outputs": [],
   "source": [
    "df = df[selected_columns]"
   ]
  },
  {
   "cell_type": "code",
   "execution_count": null,
   "id": "58e8a3a7-7463-445a-bbca-b27f32ba3e7a",
   "metadata": {},
   "outputs": [],
   "source": [
    "df_path = f\"{dataset_name}.csv\"\n",
    "df.to_csv(df_path, index=False)"
   ]
  },
  {
   "cell_type": "code",
   "execution_count": null,
   "id": "d48f346e-b494-41b3-a1b3-3322493294e4",
   "metadata": {},
   "outputs": [],
   "source": [
    "data_art = wandb.Artifact(name=dataset_name, type=\"processed_data\")"
   ]
  },
  {
   "cell_type": "code",
   "execution_count": null,
   "id": "25c10559-3c1f-4061-9bab-231f4d971d5d",
   "metadata": {},
   "outputs": [],
   "source": [
    "image_folder = Path(\".\", dataset_name)\n",
    "image_folder.mkdir(parents=True, exist_ok=True)"
   ]
  },
  {
   "cell_type": "code",
   "execution_count": null,
   "id": "5d5fd0ca-0804-4d54-9538-c38fd45f60b7",
   "metadata": {},
   "outputs": [],
   "source": [
    "data_art.add_file(df_path)\n",
    "data_art.add_dir(image_folder, name=dataset_name)"
   ]
  },
  {
   "cell_type": "code",
   "execution_count": null,
   "id": "24c2ba65-6ffe-4992-aaec-344d86cbed6b",
   "metadata": {},
   "outputs": [],
   "source": [
    "run.log_artifact(data_art)"
   ]
  },
  {
   "cell_type": "code",
   "execution_count": null,
   "id": "bd913b6d-42b0-422f-88cd-d874a2baca5a",
   "metadata": {},
   "outputs": [],
   "source": [
    "run.finish()"
   ]
  }
 ],
 "metadata": {
  "environment": {
   "kernel": "python3",
   "name": "common-cpu.m96",
   "type": "gcloud",
   "uri": "gcr.io/deeplearning-platform-release/base-cpu:m96"
  },
  "kernelspec": {
   "display_name": "Python 3",
   "language": "python",
   "name": "python3"
  },
  "language_info": {
   "codemirror_mode": {
    "name": "ipython",
    "version": 3
   },
   "file_extension": ".py",
   "mimetype": "text/x-python",
   "name": "python",
   "nbconvert_exporter": "python",
   "pygments_lexer": "ipython3",
   "version": "3.7.12"
  }
 },
 "nbformat": 4,
 "nbformat_minor": 5
}
