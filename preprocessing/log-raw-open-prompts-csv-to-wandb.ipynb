{
 "cells": [
  {
   "cell_type": "code",
   "execution_count": null,
   "id": "733a7feb-b265-4568-8811-3fabb2118b30",
   "metadata": {
    "executionInfo": {
     "elapsed": 11,
     "status": "ok",
     "timestamp": 1664199614835,
     "user": {
      "displayName": "Anish Shah",
      "userId": "05913492621931233323"
     },
     "user_tz": 240
    },
    "id": "733a7feb-b265-4568-8811-3fabb2118b30"
   },
   "outputs": [],
   "source": [
    "#https://github.com/krea-ai/open-prompts"
   ]
  },
  {
   "cell_type": "code",
   "execution_count": null,
   "id": "Y8Bx8-DuBjSm",
   "metadata": {
    "executionInfo": {
     "elapsed": 11,
     "status": "ok",
     "timestamp": 1664199614836,
     "user": {
      "displayName": "Anish Shah",
      "userId": "05913492621931233323"
     },
     "user_tz": 240
    },
    "id": "Y8Bx8-DuBjSm"
   },
   "outputs": [],
   "source": [
    "try:\n",
    "    import google.colab\n",
    "    IN_COLAB = True\n",
    "except:\n",
    "    IN_COLAB = False"
   ]
  },
  {
   "cell_type": "code",
   "execution_count": null,
   "id": "c0xLO3jdBjqj",
   "metadata": {
    "executionInfo": {
     "elapsed": 29066,
     "status": "ok",
     "timestamp": 1664199643892,
     "user": {
      "displayName": "Anish Shah",
      "userId": "05913492621931233323"
     },
     "user_tz": 240
    },
    "id": "c0xLO3jdBjqj"
   },
   "outputs": [],
   "source": [
    "%%capture\n",
    "if IN_COLAB:\n",
    "    \n",
    "    #Remove not needed python versions to free space\n",
    "    !rm -rf \"/usr/local/lib/python2.7\"\n",
    "    !rm -rf \"/usr/lib/python2.7\"\n",
    "\n",
    "    # Clone the repo.\n",
    "    # !git clone \"\"\n",
    "\n",
    "    # Change the working directory to the repo root.\n",
    "    # %cd\n",
    "\n",
    "    # Add the repo root to the Python path.\n",
    "    # import sys, os\n",
    "    # sys.path.append(os.getcwd())\n",
    "    \n",
    "    #Install packages not native to colab\n",
    "    !pip install python-dotenv\n",
    "    # !pip install transformers\n",
    "    !pip install wandb --upgrade\n",
    "\n",
    "    #Mount GDrive to access .env file\n",
    "    from google.colab import drive\n",
    "    drive.mount('/content/gdrive')\n",
    "\n",
    "    #Load env file\n",
    "    #NOTE: gdrive wont allow you to mount dotfiles\n",
    "    from dotenv import load_dotenv\n",
    "    load_dotenv(\"./gdrive/MyDrive/my_env_file\")"
   ]
  },
  {
   "cell_type": "code",
   "execution_count": null,
   "id": "9f326285-74e3-4562-8a35-27e1e81f2902",
   "metadata": {
    "colab": {
     "base_uri": "https://localhost:8080/"
    },
    "executionInfo": {
     "elapsed": 2508,
     "status": "ok",
     "timestamp": 1664199649190,
     "user": {
      "displayName": "Anish Shah",
      "userId": "05913492621931233323"
     },
     "user_tz": 240
    },
    "id": "9f326285-74e3-4562-8a35-27e1e81f2902",
    "outputId": "acecbf54-76d7-456f-a836-c8f7379dda54"
   },
   "outputs": [],
   "source": [
    "import wandb\n",
    "wandb.login()"
   ]
  },
  {
   "cell_type": "code",
   "execution_count": null,
   "id": "wtHZEXdqB70X",
   "metadata": {
    "executionInfo": {
     "elapsed": 171,
     "status": "ok",
     "timestamp": 1664199680030,
     "user": {
      "displayName": "Anish Shah",
      "userId": "05913492621931233323"
     },
     "user_tz": 240
    },
    "id": "wtHZEXdqB70X"
   },
   "outputs": [],
   "source": [
    "from pathlib import Path"
   ]
  },
  {
   "cell_type": "code",
   "execution_count": null,
   "id": "ae3aa089-8d09-4a07-97cf-1e7c269320a4",
   "metadata": {
    "executionInfo": {
     "elapsed": 175,
     "status": "ok",
     "timestamp": 1664199718897,
     "user": {
      "displayName": "Anish Shah",
      "userId": "05913492621931233323"
     },
     "user_tz": 240
    },
    "id": "ae3aa089-8d09-4a07-97cf-1e7c269320a4"
   },
   "outputs": [],
   "source": [
    "project_name = \"krea-open-prompts\"\n",
    "run_name = \"log-open-prompts-sd\"\n",
    "tags = [\"upload\", \"stable_diffusion\", \"log\"]\n",
    "_config = {}"
   ]
  },
  {
   "cell_type": "code",
   "execution_count": null,
   "id": "8c141424-ee14-4e93-856c-1a338f6a0713",
   "metadata": {
    "colab": {
     "base_uri": "https://localhost:8080/",
     "height": 65
    },
    "executionInfo": {
     "elapsed": 1553,
     "status": "ok",
     "timestamp": 1664199727182,
     "user": {
      "displayName": "Anish Shah",
      "userId": "05913492621931233323"
     },
     "user_tz": 240
    },
    "id": "8c141424-ee14-4e93-856c-1a338f6a0713",
    "outputId": "d789a0c1-64c4-4884-864f-385262cb41cc"
   },
   "outputs": [],
   "source": [
    "run = wandb.init(project=project_name, name=run_name, tags=tags, config=_config)"
   ]
  },
  {
   "cell_type": "code",
   "execution_count": null,
   "id": "101b0bf6-24da-441b-a90d-ee001c5a1817",
   "metadata": {
    "executionInfo": {
     "elapsed": 2629,
     "status": "ok",
     "timestamp": 1664199734161,
     "user": {
      "displayName": "Anish Shah",
      "userId": "05913492621931233323"
     },
     "user_tz": 240
    },
    "id": "101b0bf6-24da-441b-a90d-ee001c5a1817"
   },
   "outputs": [],
   "source": [
    "# !wget --load-cookies /tmp/cookies.txt \"https://docs.google.com/uc?export=download&confirm=$(wget --quiet --save-cookies /tmp/cookies.txt --keep-session-cookies --no-check-certificate 'https://docs.google.com/uc?export=download&id=1c4WHxtlzvHYd0UY5WCMJNn2EO-Aiv2A0' -O- | sed -rn 's/.*confirm=([0-9A-Za-z_]+).*/\\1\\n/p')&id=1c4WHxtlzvHYd0UY5WCMJNn2EO-Aiv2A0\" -O openprompts.csv && rm /tmp/cookies.txt"
   ]
  },
  {
   "cell_type": "code",
   "execution_count": null,
   "id": "825d9603-0083-41aa-8cdc-e2b7323ed266",
   "metadata": {
    "executionInfo": {
     "elapsed": 1136,
     "status": "ok",
     "timestamp": 1664199736668,
     "user": {
      "displayName": "Anish Shah",
      "userId": "05913492621931233323"
     },
     "user_tz": 240
    },
    "id": "825d9603-0083-41aa-8cdc-e2b7323ed266"
   },
   "outputs": [],
   "source": [
    "#Above doesnt work so we're just gonna manually upload the file because that makes life easier :)"
   ]
  },
  {
   "cell_type": "code",
   "execution_count": null,
   "id": "3371bd3b-ad04-4adf-8036-6b912896db26",
   "metadata": {
    "executionInfo": {
     "elapsed": 825,
     "status": "ok",
     "timestamp": 1664199742303,
     "user": {
      "displayName": "Anish Shah",
      "userId": "05913492621931233323"
     },
     "user_tz": 240
    },
    "id": "3371bd3b-ad04-4adf-8036-6b912896db26"
   },
   "outputs": [],
   "source": [
    "artifact_name = \"open-prompts-sd\"\n",
    "artifact_type = \"raw_data\"\n",
    "artifact_description = \\\n",
    "\"\"\"\n",
    "The CSV file has a simple and raw structure. There are two columns: `prompt` and `raw_data`.\n",
    "\n",
    "```python\n",
    "import csv\n",
    "import json\n",
    "\n",
    "from pprint import pprint\n",
    "\n",
    "with open(\"dataset.csv\") as f:\n",
    "    csv_reader = csv.DictReader(f)\n",
    "    for row_number, row in enumerate(csv_reader):\n",
    "        if row_number > 0:\n",
    "            break\n",
    "        datum = row\n",
    "\n",
    "pprint(datum['prompt'])\n",
    "pprint(datum['raw_data'])\n",
    "```\n",
    "```python\n",
    "# OUTPUT\n",
    "('A portrait photo of a kangaroo wearing an orange hoodie and blue sunglasses '\n",
    " 'standing on the grass in front of the Sydney Opera House holding a sign on '\n",
    " 'the chest that says Welcome Friends, subject: kangaroo, subject detail: '\n",
    " 'wearing orange hoodie, wearing blue sunglasses, subject location: sydney '\n",
    " 'opera house, subject action: holding sign')\n",
    "\n",
    "{'image_uri': 'PENDING',\n",
    " 'modifiers': ['portrait photo',\n",
    "               'kangaroo wearing',\n",
    "               'orange hoodie',\n",
    "               'blue sunglasses standing',\n",
    "               'grass',\n",
    "               'sydney opera house holding',\n",
    "               'sign',\n",
    "               'chest',\n",
    "               'says welcome friends',\n",
    "               'subject kangaroo',\n",
    "               'subject detail wearing orange hoodie',\n",
    "               'wearing blue sunglasses',\n",
    "               'subject location sydney opera house',\n",
    "               'subject action holding sign'],\n",
    " 'raw_discord_data': {'cfg_scale': 15.0,\n",
    "                      'content': '',\n",
    "                      'content_type': 'image/png',\n",
    "                      'height': 512,\n",
    "                      'image_proxy_uri': '',\n",
    "                      'image_uri': 'https://cdn.discordapp.com/attachments/1005543895024812062/1006343074768769054/A_portrait_photo_of_a_kangaroo_wearing_an_orange_hoodie_and_blue_sunglasses_standing_on_the_grass_in_front_of_the_Sydney_Opera_House_holding_a_sign_-C_15.0_-n_9_-i_-S_556046175_ts-1660001285_idx-4.png',\n",
    "                      'is_grid': 0,\n",
    "                      'num_generations': 9,\n",
    "                      'num_step': 50,\n",
    "                      'seed': 556046175,\n",
    "                      'timestamp': 1660001285,\n",
    "                      'width': 512},\n",
    " 'thumbnail_uri': 'PENDING'}\n",
    "```\n",
    "\"\"\""
   ]
  },
  {
   "cell_type": "code",
   "execution_count": null,
   "id": "T9-pRGTYBxEG",
   "metadata": {
    "executionInfo": {
     "elapsed": 151,
     "status": "ok",
     "timestamp": 1664199717153,
     "user": {
      "displayName": "Anish Shah",
      "userId": "05913492621931233323"
     },
     "user_tz": 240
    },
    "id": "T9-pRGTYBxEG"
   },
   "outputs": [],
   "source": [
    "dataset_location_in_drive = Path(\"gdrive\", \"MyDrive\", \"Krea Marqo SD\", \"datasets\")"
   ]
  },
  {
   "cell_type": "code",
   "execution_count": null,
   "id": "e3d88ddd-dfa7-4292-8024-fde831ccbb3d",
   "metadata": {
    "executionInfo": {
     "elapsed": 622,
     "status": "ok",
     "timestamp": 1664199745283,
     "user": {
      "displayName": "Anish Shah",
      "userId": "05913492621931233323"
     },
     "user_tz": 240
    },
    "id": "e3d88ddd-dfa7-4292-8024-fde831ccbb3d"
   },
   "outputs": [],
   "source": [
    "data_art = wandb.Artifact(name=artifact_name, type=artifact_type, description=artifact_description)"
   ]
  },
  {
   "cell_type": "code",
   "execution_count": null,
   "id": "5926d570-d6e8-4d7c-980a-4caaed442763",
   "metadata": {
    "colab": {
     "base_uri": "https://localhost:8080/"
    },
    "executionInfo": {
     "elapsed": 24771,
     "status": "ok",
     "timestamp": 1664199981384,
     "user": {
      "displayName": "Anish Shah",
      "userId": "05913492621931233323"
     },
     "user_tz": 240
    },
    "id": "5926d570-d6e8-4d7c-980a-4caaed442763",
    "outputId": "c5a64110-df7d-447e-8243-2673bd0d2e98"
   },
   "outputs": [],
   "source": [
    "data_art.add_dir(dataset_location_in_drive)"
   ]
  },
  {
   "cell_type": "code",
   "execution_count": null,
   "id": "jxeHUfCSCTKN",
   "metadata": {
    "colab": {
     "base_uri": "https://localhost:8080/"
    },
    "executionInfo": {
     "elapsed": 710,
     "status": "ok",
     "timestamp": 1664200621311,
     "user": {
      "displayName": "Anish Shah",
      "userId": "05913492621931233323"
     },
     "user_tz": 240
    },
    "id": "jxeHUfCSCTKN",
    "outputId": "6f3dfbe9-c352-41cc-b956-74a424721b86"
   },
   "outputs": [],
   "source": [
    "run.log_artifact(data_art)"
   ]
  },
  {
   "cell_type": "code",
   "execution_count": null,
   "id": "INPEQIDMCZWU",
   "metadata": {
    "colab": {
     "base_uri": "https://localhost:8080/",
     "height": 82,
     "referenced_widgets": [
      "bf6251f0e50b40c5a577ab0897008727",
      "2fb480c41a164e8f9a8b688a7852e231",
      "6ed7fa499e714761b82565fdc8284181",
      "e880c386af38403482a96bda55a9dc33",
      "783d4d96e29a4156b65f4b85acef714a",
      "e6eb1c2ab7274fcfab7497893e1be6cb",
      "6eda9adfd6174504ac2943905ac23f98",
      "3096f6d866a5408cbc7d93029d42d607"
     ]
    },
    "executionInfo": {
     "elapsed": 104370,
     "status": "ok",
     "timestamp": 1664200726966,
     "user": {
      "displayName": "Anish Shah",
      "userId": "05913492621931233323"
     },
     "user_tz": 240
    },
    "id": "INPEQIDMCZWU",
    "outputId": "ccd235f2-aacf-444b-9cc0-ac02eec7dd03"
   },
   "outputs": [],
   "source": [
    "run.finish()"
   ]
  },
  {
   "cell_type": "code",
   "execution_count": null,
   "id": "2V210YUgCarj",
   "metadata": {
    "id": "2V210YUgCarj"
   },
   "outputs": [],
   "source": []
  }
 ],
 "metadata": {
  "colab": {
   "collapsed_sections": [],
   "provenance": []
  },
  "environment": {
   "kernel": "python3",
   "name": "common-cpu.m96",
   "type": "gcloud",
   "uri": "gcr.io/deeplearning-platform-release/base-cpu:m96"
  },
  "kernelspec": {
   "display_name": "Python 3",
   "language": "python",
   "name": "python3"
  },
  "language_info": {
   "codemirror_mode": {
    "name": "ipython",
    "version": 3
   },
   "file_extension": ".py",
   "mimetype": "text/x-python",
   "name": "python",
   "nbconvert_exporter": "python",
   "pygments_lexer": "ipython3",
   "version": "3.7.12"
  },
  "widgets": {
   "application/vnd.jupyter.widget-state+json": {
    "2fb480c41a164e8f9a8b688a7852e231": {
     "model_module": "@jupyter-widgets/controls",
     "model_module_version": "1.5.0",
     "model_name": "LabelModel",
     "state": {
      "_dom_classes": [],
      "_model_module": "@jupyter-widgets/controls",
      "_model_module_version": "1.5.0",
      "_model_name": "LabelModel",
      "_view_count": null,
      "_view_module": "@jupyter-widgets/controls",
      "_view_module_version": "1.5.0",
      "_view_name": "LabelView",
      "description": "",
      "description_tooltip": null,
      "layout": "IPY_MODEL_783d4d96e29a4156b65f4b85acef714a",
      "placeholder": "​",
      "style": "IPY_MODEL_e6eb1c2ab7274fcfab7497893e1be6cb",
      "value": "10466.038 MB of 10466.038 MB uploaded (0.000 MB deduped)\r"
     }
    },
    "3096f6d866a5408cbc7d93029d42d607": {
     "model_module": "@jupyter-widgets/controls",
     "model_module_version": "1.5.0",
     "model_name": "ProgressStyleModel",
     "state": {
      "_model_module": "@jupyter-widgets/controls",
      "_model_module_version": "1.5.0",
      "_model_name": "ProgressStyleModel",
      "_view_count": null,
      "_view_module": "@jupyter-widgets/base",
      "_view_module_version": "1.2.0",
      "_view_name": "StyleView",
      "bar_color": null,
      "description_width": ""
     }
    },
    "6ed7fa499e714761b82565fdc8284181": {
     "model_module": "@jupyter-widgets/controls",
     "model_module_version": "1.5.0",
     "model_name": "FloatProgressModel",
     "state": {
      "_dom_classes": [],
      "_model_module": "@jupyter-widgets/controls",
      "_model_module_version": "1.5.0",
      "_model_name": "FloatProgressModel",
      "_view_count": null,
      "_view_module": "@jupyter-widgets/controls",
      "_view_module_version": "1.5.0",
      "_view_name": "ProgressView",
      "bar_style": "",
      "description": "",
      "description_tooltip": null,
      "layout": "IPY_MODEL_6eda9adfd6174504ac2943905ac23f98",
      "max": 1,
      "min": 0,
      "orientation": "horizontal",
      "style": "IPY_MODEL_3096f6d866a5408cbc7d93029d42d607",
      "value": 1
     }
    },
    "6eda9adfd6174504ac2943905ac23f98": {
     "model_module": "@jupyter-widgets/base",
     "model_module_version": "1.2.0",
     "model_name": "LayoutModel",
     "state": {
      "_model_module": "@jupyter-widgets/base",
      "_model_module_version": "1.2.0",
      "_model_name": "LayoutModel",
      "_view_count": null,
      "_view_module": "@jupyter-widgets/base",
      "_view_module_version": "1.2.0",
      "_view_name": "LayoutView",
      "align_content": null,
      "align_items": null,
      "align_self": null,
      "border": null,
      "bottom": null,
      "display": null,
      "flex": null,
      "flex_flow": null,
      "grid_area": null,
      "grid_auto_columns": null,
      "grid_auto_flow": null,
      "grid_auto_rows": null,
      "grid_column": null,
      "grid_gap": null,
      "grid_row": null,
      "grid_template_areas": null,
      "grid_template_columns": null,
      "grid_template_rows": null,
      "height": null,
      "justify_content": null,
      "justify_items": null,
      "left": null,
      "margin": null,
      "max_height": null,
      "max_width": null,
      "min_height": null,
      "min_width": null,
      "object_fit": null,
      "object_position": null,
      "order": null,
      "overflow": null,
      "overflow_x": null,
      "overflow_y": null,
      "padding": null,
      "right": null,
      "top": null,
      "visibility": null,
      "width": null
     }
    },
    "783d4d96e29a4156b65f4b85acef714a": {
     "model_module": "@jupyter-widgets/base",
     "model_module_version": "1.2.0",
     "model_name": "LayoutModel",
     "state": {
      "_model_module": "@jupyter-widgets/base",
      "_model_module_version": "1.2.0",
      "_model_name": "LayoutModel",
      "_view_count": null,
      "_view_module": "@jupyter-widgets/base",
      "_view_module_version": "1.2.0",
      "_view_name": "LayoutView",
      "align_content": null,
      "align_items": null,
      "align_self": null,
      "border": null,
      "bottom": null,
      "display": null,
      "flex": null,
      "flex_flow": null,
      "grid_area": null,
      "grid_auto_columns": null,
      "grid_auto_flow": null,
      "grid_auto_rows": null,
      "grid_column": null,
      "grid_gap": null,
      "grid_row": null,
      "grid_template_areas": null,
      "grid_template_columns": null,
      "grid_template_rows": null,
      "height": null,
      "justify_content": null,
      "justify_items": null,
      "left": null,
      "margin": null,
      "max_height": null,
      "max_width": null,
      "min_height": null,
      "min_width": null,
      "object_fit": null,
      "object_position": null,
      "order": null,
      "overflow": null,
      "overflow_x": null,
      "overflow_y": null,
      "padding": null,
      "right": null,
      "top": null,
      "visibility": null,
      "width": null
     }
    },
    "bf6251f0e50b40c5a577ab0897008727": {
     "model_module": "@jupyter-widgets/controls",
     "model_module_version": "1.5.0",
     "model_name": "VBoxModel",
     "state": {
      "_dom_classes": [],
      "_model_module": "@jupyter-widgets/controls",
      "_model_module_version": "1.5.0",
      "_model_name": "VBoxModel",
      "_view_count": null,
      "_view_module": "@jupyter-widgets/controls",
      "_view_module_version": "1.5.0",
      "_view_name": "VBoxView",
      "box_style": "",
      "children": [
       "IPY_MODEL_2fb480c41a164e8f9a8b688a7852e231",
       "IPY_MODEL_6ed7fa499e714761b82565fdc8284181"
      ],
      "layout": "IPY_MODEL_e880c386af38403482a96bda55a9dc33"
     }
    },
    "e6eb1c2ab7274fcfab7497893e1be6cb": {
     "model_module": "@jupyter-widgets/controls",
     "model_module_version": "1.5.0",
     "model_name": "DescriptionStyleModel",
     "state": {
      "_model_module": "@jupyter-widgets/controls",
      "_model_module_version": "1.5.0",
      "_model_name": "DescriptionStyleModel",
      "_view_count": null,
      "_view_module": "@jupyter-widgets/base",
      "_view_module_version": "1.2.0",
      "_view_name": "StyleView",
      "description_width": ""
     }
    },
    "e880c386af38403482a96bda55a9dc33": {
     "model_module": "@jupyter-widgets/base",
     "model_module_version": "1.2.0",
     "model_name": "LayoutModel",
     "state": {
      "_model_module": "@jupyter-widgets/base",
      "_model_module_version": "1.2.0",
      "_model_name": "LayoutModel",
      "_view_count": null,
      "_view_module": "@jupyter-widgets/base",
      "_view_module_version": "1.2.0",
      "_view_name": "LayoutView",
      "align_content": null,
      "align_items": null,
      "align_self": null,
      "border": null,
      "bottom": null,
      "display": null,
      "flex": null,
      "flex_flow": null,
      "grid_area": null,
      "grid_auto_columns": null,
      "grid_auto_flow": null,
      "grid_auto_rows": null,
      "grid_column": null,
      "grid_gap": null,
      "grid_row": null,
      "grid_template_areas": null,
      "grid_template_columns": null,
      "grid_template_rows": null,
      "height": null,
      "justify_content": null,
      "justify_items": null,
      "left": null,
      "margin": null,
      "max_height": null,
      "max_width": null,
      "min_height": null,
      "min_width": null,
      "object_fit": null,
      "object_position": null,
      "order": null,
      "overflow": null,
      "overflow_x": null,
      "overflow_y": null,
      "padding": null,
      "right": null,
      "top": null,
      "visibility": null,
      "width": null
     }
    }
   }
  }
 },
 "nbformat": 4,
 "nbformat_minor": 5
}
