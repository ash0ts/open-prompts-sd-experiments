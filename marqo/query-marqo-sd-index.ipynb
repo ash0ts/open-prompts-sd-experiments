{
 "cells": [
  {
   "cell_type": "code",
   "execution_count": null,
   "id": "164b2776-33bf-441a-a7f0-ec43379da1fd",
   "metadata": {},
   "outputs": [],
   "source": [
    "%%capture\n",
    "!pip install marqo"
   ]
  },
  {
   "cell_type": "code",
   "execution_count": null,
   "id": "d3adac41-7d62-4994-ab87-13ccca826e3c",
   "metadata": {},
   "outputs": [],
   "source": [
    "from marqo import Client\n",
    "from marqo.errors import MarqoApiError"
   ]
  },
  {
   "cell_type": "code",
   "execution_count": null,
   "id": "1639b049-8122-499d-8101-40d01f0e278b",
   "metadata": {},
   "outputs": [],
   "source": [
    "mq = Client()"
   ]
  },
  {
   "cell_type": "code",
   "execution_count": null,
   "id": "2df45f88-a2e9-4c41-9443-1c8bd34f89a0",
   "metadata": {},
   "outputs": [],
   "source": [
    "index_name = \"stable-diffusion-open-prompts\""
   ]
  },
  {
   "cell_type": "code",
   "execution_count": null,
   "id": "dc55e721-5ea8-4750-85de-17ac0357471a",
   "metadata": {},
   "outputs": [],
   "source": [
    "index = mq.index(index_name)"
   ]
  },
  {
   "cell_type": "code",
   "execution_count": null,
   "id": "5908de98-f3b4-4d04-ac4f-c033045641a1",
   "metadata": {},
   "outputs": [],
   "source": [
    "index.get_stats()"
   ]
  },
  {
   "cell_type": "code",
   "execution_count": null,
   "id": "ac240f53-ce89-4309-81d3-55192170656b",
   "metadata": {},
   "outputs": [],
   "source": [
    "results = index.search(\"standing hippopotamus\")"
   ]
  },
  {
   "cell_type": "code",
   "execution_count": null,
   "id": "f00267bd-0e8f-4429-953f-a07bc1ab0226",
   "metadata": {},
   "outputs": [],
   "source": [
    "results[\"hits\"][0]"
   ]
  },
  {
   "cell_type": "code",
   "execution_count": null,
   "id": "96d1a783-9aac-4e7f-bb53-42cddc447966",
   "metadata": {},
   "outputs": [],
   "source": [
    "from PIL import Image\n",
    "import requests"
   ]
  },
  {
   "cell_type": "code",
   "execution_count": null,
   "id": "09ba0cd7-755d-411a-96c4-22006d13f82a",
   "metadata": {},
   "outputs": [],
   "source": [
    "pic = results[\"hits\"][0][\"local_image_location\"]\n",
    "if pic.startswith(\"http://host.docker.internal:8222/\"):\n",
    "    #This still only gets the image from local\n",
    "    pic_url = 'http://localhost:8222/' + pic.split(\"http://host.docker.internal:8222/\")[1]\n",
    "    image = Image.open(requests.get(pic_url, stream=True).raw)\n",
    "image"
   ]
  },
  {
   "cell_type": "code",
   "execution_count": null,
   "id": "c0c73895-d31b-4a9e-ad9d-055124c5f83f",
   "metadata": {},
   "outputs": [],
   "source": [
    "results = index.search('https://upload.wikimedia.org/wikipedia/commons/thumb/9/96/Standing_Hippopotamus_MET_DP248993.jpg/440px-Standing_Hippopotamus_MET_DP248993.jpg')"
   ]
  },
  {
   "cell_type": "code",
   "execution_count": null,
   "id": "72a1d5e6-1f22-4267-854a-22d77d47a7b3",
   "metadata": {},
   "outputs": [],
   "source": [
    "pic = results[\"hits\"][0][\"local_image_location\"]\n",
    "if pic.startswith(\"http://host.docker.internal:8222/\"):\n",
    "    #This still only gets the image from local\n",
    "    pic_url = 'http://localhost:8222/' + pic.split(\"http://host.docker.internal:8222/\")[1]\n",
    "    image = Image.open(requests.get(pic_url, stream=True).raw)\n",
    "image"
   ]
  }
 ],
 "metadata": {
  "environment": {
   "kernel": "python3",
   "name": "common-cu110.m97",
   "type": "gcloud",
   "uri": "gcr.io/deeplearning-platform-release/base-cu110:m97"
  },
  "kernelspec": {
   "display_name": "Python 3",
   "language": "python",
   "name": "python3"
  },
  "language_info": {
   "codemirror_mode": {
    "name": "ipython",
    "version": 3
   },
   "file_extension": ".py",
   "mimetype": "text/x-python",
   "name": "python",
   "nbconvert_exporter": "python",
   "pygments_lexer": "ipython3",
   "version": "3.7.12"
  }
 },
 "nbformat": 4,
 "nbformat_minor": 5
}
