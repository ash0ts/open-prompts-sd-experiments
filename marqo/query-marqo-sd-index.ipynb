{
 "cells": [
  {
   "cell_type": "code",
   "execution_count": null,
   "id": "164b2776-33bf-441a-a7f0-ec43379da1fd",
   "metadata": {},
   "outputs": [],
   "source": [
    "%%capture\n",
    "!pip install marqo\n",
    "!pip install plotly"
   ]
  },
  {
   "cell_type": "code",
   "execution_count": null,
   "id": "d3adac41-7d62-4994-ab87-13ccca826e3c",
   "metadata": {},
   "outputs": [],
   "source": [
    "from marqo import Client\n",
    "from marqo.errors import MarqoApiError\n",
    "mq = Client()\n",
    "index_name = \"stable-diffusion-open-prompts\"\n",
    "index = mq.index(index_name)\n",
    "print(index.get_stats())"
   ]
  },
  {
   "cell_type": "code",
   "execution_count": null,
   "id": "de52ffb4-162f-4eca-9cfb-38c146b71557",
   "metadata": {},
   "outputs": [],
   "source": [
    "from PIL import Image\n",
    "import requests"
   ]
  },
  {
   "cell_type": "code",
   "execution_count": null,
   "id": "fb7e7ae0-32f1-404a-a54d-4d2edc4a5f0f",
   "metadata": {},
   "outputs": [],
   "source": [
    "from IPython.display import display"
   ]
  },
  {
   "cell_type": "code",
   "execution_count": null,
   "id": "cb0ea4ca-4c2b-4ff2-b186-69ad897c1190",
   "metadata": {},
   "outputs": [],
   "source": [
    "def convert_docker_url_to_local(docker_url):\n",
    "    return 'http://localhost:8222/' + docker_url.split(\"http://host.docker.internal:8222/\")[1]"
   ]
  },
  {
   "cell_type": "code",
   "execution_count": null,
   "id": "fd501c72-e6f7-40d2-8fba-e026dd6c1b45",
   "metadata": {},
   "outputs": [],
   "source": [
    "def search_and_display(text, limit=3, verbose=True):\n",
    "    results = index.search(text, limit=limit)\n",
    "    # print(results)\n",
    "    for i, result in enumerate(results[\"hits\"]):\n",
    "        pic = result[\"local_image_location\"]\n",
    "        prompt = result[\"prompt\"]\n",
    "        if pic.startswith(\"http://host.docker.internal:8222/\"):\n",
    "            #This still only gets the image from local\n",
    "            # print(pic)\n",
    "            pic_url = convert_docker_url_to_local(pic)\n",
    "            # print(pic_url)\n",
    "            image = Image.open(requests.get(pic_url, stream=True).raw)\n",
    "            if i == 0:\n",
    "                search_image = pic\n",
    "            if verbose:\n",
    "                print(prompt)\n",
    "                display(image)\n",
    "                print()\n",
    "    return results"
   ]
  },
  {
   "cell_type": "code",
   "execution_count": null,
   "id": "fb7a0d8b-20e9-4862-a960-c5c31ceebd31",
   "metadata": {},
   "outputs": [],
   "source": [
    "results = search_and_display(\"cellular automata\")"
   ]
  },
  {
   "cell_type": "code",
   "execution_count": null,
   "id": "f23cb9a6-fbef-4736-b136-bd37a4eb6041",
   "metadata": {},
   "outputs": [],
   "source": [
    "def whisper_down_the_lane_text_image_text(original_text, limit=3, n_iterations=3, verbose=True):\n",
    "    prompt = original_text\n",
    "    image = None\n",
    "    _limit = limit+1\n",
    "    query_local_image_paths = []\n",
    "    for i in range(n_iterations):\n",
    "        iter_dict = {}\n",
    "        if image:\n",
    "            iter_dict[\"text_query\"]= {\n",
    "                \"image\" : convert_docker_url_to_local(image),\n",
    "                \"prompt\": prompt\n",
    "            }\n",
    "        else:\n",
    "            iter_dict[\"text_query\"] = {\n",
    "                \"image\" : image,\n",
    "                \"prompt\": prompt\n",
    "            }\n",
    "        print(f\"iteration {i}: {prompt}\")\n",
    "        text_search_results = search_and_display(prompt, limit=_limit, verbose=verbose)\n",
    "        top_result = text_search_results[\"hits\"][1]\n",
    "        image = top_result[\"local_image_location\"]\n",
    "        prompt = top_result[\"prompt\"]\n",
    "        iter_dict[\"image_query\"]= {\n",
    "            \"image\" : convert_docker_url_to_local(image),\n",
    "            \"prompt\": prompt\n",
    "        }\n",
    "        print(f\"iteration {i}: {image}\")\n",
    "        image_search_results = search_and_display(image, limit=_limit, verbose=verbose)\n",
    "        top_result = image_search_results[\"hits\"][1]\n",
    "        image = top_result[\"local_image_location\"]\n",
    "        prompt = top_result[\"prompt\"]\n",
    "        query_local_image_paths.append(iter_dict)\n",
    "    query_local_image_paths.append({\"result\": {\"image\":convert_docker_url_to_local(image), \"prompt\": prompt}})\n",
    "    return query_local_image_paths"
   ]
  },
  {
   "cell_type": "code",
   "execution_count": null,
   "id": "019517d5-4c6f-4b16-b2d6-f981b5fdcff1",
   "metadata": {},
   "outputs": [],
   "source": [
    "generative_whispers = whisper_down_the_lane_text_image_text(\"autonomous vehicle\", limit=3, n_iterations=3, verbose=False)"
   ]
  },
  {
   "cell_type": "code",
   "execution_count": null,
   "id": "e30c61c8-7eba-4bf9-ac93-9689a42f5160",
   "metadata": {},
   "outputs": [],
   "source": [
    "base_prompt = generative_whispers[0]['text_query'][\"prompt\"]"
   ]
  },
  {
   "cell_type": "code",
   "execution_count": null,
   "id": "86904606-0727-452c-b525-b8718d19cc22",
   "metadata": {},
   "outputs": [],
   "source": [
    "image_urls = []\n",
    "prompts = []\n",
    "for iteration in generative_whispers:\n",
    "    for key in iteration.keys():\n",
    "        q = iteration[key]\n",
    "        image_url = q[\"image\"]\n",
    "        prompt = q[\"prompt\"]\n",
    "        if image_url not in image_urls and image_url:\n",
    "            prompts.append(prompt)\n",
    "            image_urls.append(image_url)"
   ]
  },
  {
   "cell_type": "code",
   "execution_count": null,
   "id": "500a6a56-521d-4b55-a473-44b54ff4a016",
   "metadata": {},
   "outputs": [],
   "source": [
    "image_urls"
   ]
  },
  {
   "cell_type": "code",
   "execution_count": null,
   "id": "a6d7a541-5146-467d-9927-26ac881adfb2",
   "metadata": {},
   "outputs": [],
   "source": [
    "prompts"
   ]
  },
  {
   "cell_type": "code",
   "execution_count": null,
   "id": "1d86730c-07c2-413b-8881-6c30ae2fe6b4",
   "metadata": {},
   "outputs": [],
   "source": [
    "%%capture\n",
    "!git clone https://github.com/volotat/DiffMorph\n",
    "# %cd DiffMorph\n",
    "!pip install -r DiffMorph/requirements.txt"
   ]
  },
  {
   "cell_type": "code",
   "execution_count": null,
   "id": "f403fbca-30a1-420b-94a2-9dca39247331",
   "metadata": {},
   "outputs": [],
   "source": [
    "import os"
   ]
  },
  {
   "cell_type": "code",
   "execution_count": null,
   "id": "c720596b-fc6b-4237-9911-a9cfda4cc8f6",
   "metadata": {},
   "outputs": [],
   "source": [
    "import shutil"
   ]
  },
  {
   "cell_type": "code",
   "execution_count": null,
   "id": "63ba2c4f-49b9-4c2e-8747-3f0790221534",
   "metadata": {},
   "outputs": [],
   "source": [
    "import unicodedata\n",
    "import re\n",
    "\n",
    "def slugify(value, allow_unicode=False):\n",
    "    \"\"\"\n",
    "    Taken from https://github.com/django/django/blob/master/django/utils/text.py\n",
    "    Convert to ASCII if 'allow_unicode' is False. Convert spaces or repeated\n",
    "    dashes to single dashes. Remove characters that aren't alphanumerics,\n",
    "    underscores, or hyphens. Convert to lowercase. Also strip leading and\n",
    "    trailing whitespace, dashes, and underscores.\n",
    "    \"\"\"\n",
    "    value = str(value)\n",
    "    if allow_unicode:\n",
    "        value = unicodedata.normalize('NFKC', value)\n",
    "    else:\n",
    "        value = unicodedata.normalize('NFKD', value).encode('ascii', 'ignore').decode('ascii')\n",
    "    value = re.sub(r'[^\\w\\s-]', '', value.lower())\n",
    "    return re.sub(r'[-\\s]+', '-', value).strip('-_')"
   ]
  },
  {
   "cell_type": "code",
   "execution_count": null,
   "id": "a2d7f420-5b4f-4750-a22f-04dfcbd2ffe8",
   "metadata": {},
   "outputs": [],
   "source": [
    "input_dir = os.path.join(\".\", \"input\")\n",
    "output_dir = os.path.join(\".\", \"output\")\n",
    "morph_temp_dir = os.path.join(\".\", \"morph\")"
   ]
  },
  {
   "cell_type": "code",
   "execution_count": null,
   "id": "586e0778-ea46-42d0-8b29-5dc8de95ad45",
   "metadata": {},
   "outputs": [],
   "source": [
    "if not os.path.exists(input_dir):\n",
    "    os.makedirs(input_dir)"
   ]
  },
  {
   "cell_type": "code",
   "execution_count": null,
   "id": "2091ac53-2f71-44ff-ab0e-6e3454fd2c83",
   "metadata": {},
   "outputs": [],
   "source": [
    "if not os.path.exists(output_dir):\n",
    "    os.makedirs(output_dir)"
   ]
  },
  {
   "cell_type": "code",
   "execution_count": null,
   "id": "811c891c-8a6a-4ca1-810c-d0d0a98e47d5",
   "metadata": {},
   "outputs": [],
   "source": [
    "if not os.path.exists(morph_temp_dir):\n",
    "    os.makedirs(morph_temp_dir)"
   ]
  },
  {
   "cell_type": "code",
   "execution_count": null,
   "id": "7a0c176f-c3ae-4dcf-9501-31b9570b4092",
   "metadata": {},
   "outputs": [],
   "source": [
    "from datetime import datetime\n",
    "\n",
    "now = datetime.now()\n",
    "date_time = now.strftime(\"%m-%d-%Y-%H-%M-%S\")"
   ]
  },
  {
   "cell_type": "code",
   "execution_count": null,
   "id": "6cfc8e27-c3c7-4214-ab59-dcd5a1b93120",
   "metadata": {},
   "outputs": [],
   "source": [
    "slug = slugify(base_prompt)\n",
    "if not slug:\n",
    "    slug = date_time"
   ]
  },
  {
   "cell_type": "code",
   "execution_count": null,
   "id": "ab437377-28e3-4714-adbf-0b4da3131937",
   "metadata": {},
   "outputs": [],
   "source": [
    "input_prompt_folder = os.path.join(input_dir, slug)"
   ]
  },
  {
   "cell_type": "code",
   "execution_count": null,
   "id": "2e272600-fb85-4741-af2e-fd7317ff536c",
   "metadata": {},
   "outputs": [],
   "source": [
    "if not os.path.exists(input_prompt_folder):\n",
    "    os.makedirs(input_prompt_folder)"
   ]
  },
  {
   "cell_type": "code",
   "execution_count": null,
   "id": "5f1a118d-ecc1-4208-8dea-7aa885ede433",
   "metadata": {},
   "outputs": [],
   "source": [
    "output_prompt_folder = os.path.join(output_dir, slug)"
   ]
  },
  {
   "cell_type": "code",
   "execution_count": null,
   "id": "604be89b-ad94-44c5-89bf-fc8c8ca8cbd6",
   "metadata": {},
   "outputs": [],
   "source": [
    "if not os.path.exists(output_prompt_folder):\n",
    "    os.makedirs(output_prompt_folder)"
   ]
  },
  {
   "cell_type": "code",
   "execution_count": null,
   "id": "7662102e-0c88-42de-bb84-5b6583917fdf",
   "metadata": {},
   "outputs": [],
   "source": [
    "def morph_generative_whispers(image_urls):\n",
    "    import sys\n",
    "    for i, image_url in enumerate(image_urls):\n",
    "        src_url = image_url.split('http://localhost:8222/')[1]\n",
    "        dest_url = os.path.join(input_prompt_folder, f\"{i+1}.png\")\n",
    "        shutil.copy(src_url, dest_url)\n",
    "    #this will create a preds.npy file in the cwd! the rest should organize properly\n",
    "    image_list = [file for file in os.listdir(input_prompt_folder) if not file.startswith('.')]\n",
    "    image_list.sort()\n",
    "    epochs = 10 #@param {type:\"number\"}\n",
    "    warp_scale = 0.05 #@param {type:\"number\"}\n",
    "    mult_scale = 0.4 #@param {type:\"number\"}\n",
    "    add_scale = 0.4 #@param {type:\"number\"}\n",
    "    add_first = False #@param {type:\"boolean\"}\n",
    "    filenames = []\n",
    "    for i in range(len(image_list) - 1):\n",
    "        start = f'{input_prompt_folder}/{image_list[i]}'\n",
    "        end = f'{input_prompt_folder}/{image_list[i+1]}'\n",
    "        if add_first:\n",
    "            !python DiffMorph/morph.py -s $start -t $end -e $epochs -a $add_scale -m $mult_scale -w $warp_scale --add_first\n",
    "        else:\n",
    "            !python DiffMorph/morph.py -s $start -t $end -e $epochs -a $add_scale -m $mult_scale -w $warp_scale\n",
    "        filename = f'{output_prompt_folder}/morph{i:03d}.mp4'\n",
    "        filenames.append(filename)\n",
    "        !mv ./morph/morph.mp4 $filename\n",
    "    #@title Step 4: Join videos together\n",
    "    with open(os.path.join(input_prompt_folder, 'filenames.txt'), 'w') as f:\n",
    "        f.write('\\n'.join([f\"file '{filename}'\" for filename in filenames]))\n",
    "    !ffmpeg -f concat -i filenames.txt -codec copy $output_prompt_folder/final.mp4"
   ]
  },
  {
   "cell_type": "code",
   "execution_count": null,
   "id": "1a7186db-332b-4b51-9436-cbd4a8b643b2",
   "metadata": {},
   "outputs": [],
   "source": [
    "morph_generative_whispers(image_urls)"
   ]
  },
  {
   "cell_type": "code",
   "execution_count": null,
   "id": "3149c3e3-3ccf-4ee4-84c6-66eb0fa71860",
   "metadata": {},
   "outputs": [],
   "source": [
    "y"
   ]
  }
 ],
 "metadata": {
  "environment": {
   "kernel": "python3",
   "name": "common-cu110.m97",
   "type": "gcloud",
   "uri": "gcr.io/deeplearning-platform-release/base-cu110:m97"
  },
  "kernelspec": {
   "display_name": "Python 3",
   "language": "python",
   "name": "python3"
  },
  "language_info": {
   "codemirror_mode": {
    "name": "ipython",
    "version": 3
   },
   "file_extension": ".py",
   "mimetype": "text/x-python",
   "name": "python",
   "nbconvert_exporter": "python",
   "pygments_lexer": "ipython3",
   "version": "3.7.12"
  },
  "voila": {
   "theme": "dark"
  }
 },
 "nbformat": 4,
 "nbformat_minor": 5
}
